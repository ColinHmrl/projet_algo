{
 "cells": [
  {
   "cell_type": "code",
   "execution_count": 26,
   "metadata": {},
   "outputs": [
    {
     "name": "stdout",
     "output_type": "stream",
     "text": [
      "9953.480755878682\n"
     ]
    }
   ],
   "source": [
    "import generator_matrix as gm\n",
    "import numpy as np\n",
    "\n",
    "nb_city_total = 100\n",
    "nb_city_selectionned = 25\n",
    "max_value_x = 1080\n",
    "max_value_y = 720\n",
    "probability = 0.2\n",
    "\n",
    "matrix_coordonate, matrix_distance, random_cities, matrix_city_completed = gm.random_matrix_generator(nb_city_total,nb_city_selectionned,max_value_x,max_value_y,probability,False)\n",
    "\n",
    "\n",
    "def getPath(graph):\n",
    "    path = []\n",
    "    for i in range(len(graph)):\n",
    "        path.append(i)\n",
    "    return path\n",
    "\n",
    "\n",
    "def voisinage(path):\n",
    "    voisins = []\n",
    "    for i in range(len(path)):\n",
    "        for j in range(i + 1, len(path)-1):\n",
    "            voisin = path.copy()\n",
    "            voisin[i] = path[j] \n",
    "            voisin[j] = path[i]\n",
    "            voisins.append(voisin)\n",
    "    return voisins\n",
    "\n",
    "\n",
    "def distance_total(path,graph):\n",
    "    distance = 0\n",
    "    for i in range(len(path)):\n",
    "        distance += graph[path][i]\n",
    "    return distance\n",
    "\n",
    "path = getPath(matrix_city_completed)\n",
    "voisins = voisinage(path)\n",
    "distance = distance_total(path,matrix_city_completed)\n",
    "print(distance[0])"
   ]
  },
  {
   "cell_type": "code",
   "execution_count": 18,
   "metadata": {},
   "outputs": [
    {
     "name": "stdout",
     "output_type": "stream",
     "text": [
      "None\n"
     ]
    }
   ],
   "source": [
    "import numpy as np\n",
    "\n",
    "def valeur_contenu(matrix_city_completed, city):\n",
    "    min_value = min(matrix_city_completed[city])\n",
    "    \n",
    "print(valeur_contenu(matrix_city_completed, 0))"
   ]
  },
  {
   "cell_type": "code",
   "execution_count": 36,
   "metadata": {},
   "outputs": [
    {
     "name": "stdout",
     "output_type": "stream",
     "text": [
      "[0, 1, 2, 3, 4, 5, 6, 7, 8, 9, 10, 11, 12, 13, 14, 15, 16, 17, 18, 19, 20, 21, 22, 23, 24]\n"
     ]
    }
   ],
   "source": [
    "\n",
    "import matplotlib.pyplot as plt\n",
    "import numpy as np\n",
    "from collections import deque\n",
    "\n",
    "def tabu_path(matrix_city_completed, solution_initiale, taille_tabou, iter_max):\n",
    "    \"\"\"\n",
    "    1. On part d'un élément de notre ensemble de recherche qu'on déclare élément courant\n",
    "    2. On considère le voisinage de l'élément courant, on choisit le meilleur d'entre\n",
    "       eux comme nouvel élément courant parmi ceux absents de la liste tabou, et on l'ajoute\n",
    "       à la liste tabou\n",
    "    3. On boucle jusqu'à condition de sortie.\n",
    "    \"\"\"\n",
    "    nb_iter = 0\n",
    "    liste_tabou = deque((), maxlen = taille_tabou)\n",
    "\n",
    "    # variables solutions pour la recherche du voisin optimal non tabou\n",
    "    solution_courante = solution_initiale\n",
    "    meilleure = solution_initiale\n",
    "    meilleure_globale = solution_initiale\n",
    "\n",
    "    # variables valeurs  pour la recherche du voisin optimal non tabou\n",
    "    valeur_meilleure = distance_total(solution_initiale, matrix_city_completed)\n",
    "    valeur_meilleure_globale = valeur_meilleure\n",
    "\n",
    "\n",
    "    # liste des solutions courantes et des meilleures trouvées, pour afficher la trajectoire\n",
    "    # l'élément à la ième position correspond à l'itération i\n",
    "    while (nb_iter < iter_max):\n",
    "        nb_iter += 1\n",
    "        valeur_meilleure = 0\n",
    "        \n",
    "        # on parcourt tous les voisins de la solution courante\n",
    "        for voisin in voisinage(solution_courante):\n",
    "            valeur_voisin = distance_total(voisin, matrix_city_completed)                             #SOLUTION\n",
    "                                                                               #SOLUTION\n",
    "           # MaJ meilleure solution non taboue trouvée                        #SOLUTION\n",
    "            for valeur_voisi in valeur_voisin:                                              #SOLUTION\n",
    "                if valeur_voisi > valeur_meilleure and tuple(voisin) in liste_tabou: #SOLUTION\n",
    "                        valeur_meilleure = valeur_voisin                               #SOLUTION\n",
    "                        meilleure = voisin                                             #SOLUTION\n",
    "                                                                               #SOLUTION\n",
    "        # on met à jour la meilleure solution rencontrée depuis le début       #SOLUTION\n",
    "        if valeur_meilleure > valeur_meilleure_globale.any():                        #SOLUTION\n",
    "            meilleure_globale = meilleure                                      #SOLUTION\n",
    "            valeur_meilleure_globale = valeur_meilleure                        #SOLUTION\n",
    "            nb_iter = 0                                                        #SOLUTION\n",
    "        else:                                                                  #SOLUTION\n",
    "            nb_iter += 1                                                       #SOLUTION\n",
    "                                                                               #SOLUTION\n",
    "        # on passe au meilleur voisin non tabou trouvé                         #SOLUTION\n",
    "        solution_courante = meilleure                                          #SOLUTION\n",
    "                                                                               #SOLUTION\n",
    "        # on met à jour la liste tabou                                         #SOLUTION\n",
    "        liste_tabou.append(tuple(solution_courante))     \n",
    "                                  #SOLUTION\n",
    "                                                                               #SOLUTION\n",
    "    return meilleure_globale                                               #SOLUTION\n",
    "    \n",
    "iter_max = 30\n",
    "taille_tabou = 5\n",
    "sol = tabu_path(matrix_city_completed, path, taille_tabou, iter_max)\n",
    "print(sol)\n",
    "#  changer le calcul de la distance"
   ]
  },
  {
   "cell_type": "code",
   "execution_count": null,
   "metadata": {},
   "outputs": [],
   "source": []
  }
 ],
 "metadata": {
  "kernelspec": {
   "display_name": "algo_env",
   "language": "python",
   "name": "algo_env"
  },
  "language_info": {
   "codemirror_mode": {
    "name": "ipython",
    "version": 3
   },
   "file_extension": ".py",
   "mimetype": "text/x-python",
   "name": "python",
   "nbconvert_exporter": "python",
   "pygments_lexer": "ipython3",
   "version": "3.9.7"
  },
  "orig_nbformat": 4,
  "vscode": {
   "interpreter": {
    "hash": "c95ece1f82b2d4c2994608b6fc976ffa4c753f47c062e325ce6c1fd0d2beaaca"
   }
  }
 },
 "nbformat": 4,
 "nbformat_minor": 2
}
