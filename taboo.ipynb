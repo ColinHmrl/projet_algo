{
 "cells": [
  {
   "cell_type": "code",
   "execution_count": 14,
   "metadata": {},
   "outputs": [
    {
     "name": "stdout",
     "output_type": "stream",
     "text": [
      "[[inf inf inf  7. inf  4. inf  3.  1. inf]\n",
      " [inf inf  4. inf  2. inf inf  6. inf inf]\n",
      " [inf  4. inf  9. inf inf inf inf inf inf]\n",
      " [ 7. inf  9. inf inf inf  9. inf inf  1.]\n",
      " [inf  2. inf inf inf inf inf inf  8. inf]\n",
      " [ 4. inf inf inf inf inf  6.  2.  9. inf]\n",
      " [inf inf inf  9. inf  6. inf inf  9. inf]\n",
      " [ 3.  6. inf inf inf  2. inf inf  2.  8.]\n",
      " [ 1. inf inf inf  8.  9.  9.  2. inf inf]\n",
      " [inf inf inf  1. inf inf inf  8. inf inf]] [0, 9, 5, 3, 7]\n",
      "[[ 0.  8.  4.  7.  3.]\n",
      " [ 8.  0. 10.  1.  8.]\n",
      " [ 4. 10.  0. 11.  2.]\n",
      " [ 7.  1. 11.  0.  9.]\n",
      " [ 3.  8.  2.  9.  0.]]\n",
      "voisins de 0 : \n",
      "1 8.0\n",
      "2 4.0\n",
      "3 7.0\n",
      "4 3.0\n",
      "voisins de 1 : \n",
      "0 8.0\n",
      "2 10.0\n",
      "3 1.0\n",
      "4 8.0\n",
      "voisins de 2 : \n",
      "0 4.0\n",
      "1 10.0\n",
      "3 11.0\n",
      "4 2.0\n",
      "voisins de 3 : \n",
      "0 7.0\n",
      "1 1.0\n",
      "2 11.0\n",
      "4 9.0\n",
      "voisins de 4 : \n",
      "0 3.0\n",
      "1 8.0\n",
      "2 2.0\n",
      "3 9.0\n",
      "{0: [8.0, 4.0, 7.0, 3.0], 1: [8.0, 10.0, 1.0, 8.0], 2: [4.0, 10.0, 11.0, 2.0], 3: [7.0, 1.0, 11.0, 9.0], 4: [3.0, 8.0, 2.0, 9.0]}\n"
     ]
    }
   ],
   "source": [
    "from gen_random import gen_random\n",
    "\n",
    "graph, cities, cities_complte = gen_random(10, 5, 10, 0.2)\n",
    "print(graph, cities)\n",
    "print(cities_complte)\n",
    "\n",
    "def voisinage(graph):\n",
    "    voisins = {}\n",
    "    for i in range(len(graph)):\n",
    "        print(\"voisins de\", i ,\": \")\n",
    "        voisins[i] = []\n",
    "        for j in range(len(graph[i])):\n",
    "            if graph[i][j] != 0: \n",
    "                voisins[i].append(graph[i][j])\n",
    "                print(j, graph[i][j])\n",
    "    return voisins\n",
    "\n",
    "print(voisinage(cities_complte))\n",
    "\n"
   ]
  }
 ],
 "metadata": {
  "kernelspec": {
   "display_name": "algo_env",
   "language": "python",
   "name": "algo_env"
  },
  "language_info": {
   "codemirror_mode": {
    "name": "ipython",
    "version": 3
   },
   "file_extension": ".py",
   "mimetype": "text/x-python",
   "name": "python",
   "nbconvert_exporter": "python",
   "pygments_lexer": "ipython3",
   "version": "3.9.7"
  },
  "orig_nbformat": 4,
  "vscode": {
   "interpreter": {
    "hash": "c95ece1f82b2d4c2994608b6fc976ffa4c753f47c062e325ce6c1fd0d2beaaca"
   }
  }
 },
 "nbformat": 4,
 "nbformat_minor": 2
}
