{
 "cells": [
  {
   "cell_type": "code",
   "execution_count": 11,
   "metadata": {},
   "outputs": [],
   "source": [
    "import ants as ants\n",
    "import prog_lineraire as pl\n",
    "import generator_matrix as gm\n",
    "import dataset"
   ]
  },
  {
   "cell_type": "code",
   "execution_count": 32,
   "metadata": {},
   "outputs": [],
   "source": [
    "\n",
    "nb_city_total = 500\n",
    "nb_city_selectionned = 100\n",
    "max_value_x = 1080\n",
    "max_value_y = 720\n",
    "probability = 0.2\n",
    "\n",
    "matrix_coordonate, matrix_distance, random_cities, matrix_city_completed = gm.random_matrix_generator(nb_city_total,nb_city_selectionned,max_value_x,max_value_y,probability,False)\n",
    "\n",
    "dataset.export_dataset(\"dataset/cities\",random_cities)\n",
    "dataset.export_dataset(\"dataset/dataset\",matrix_city_completed)\n",
    "\n",
    "\n"
   ]
  },
  {
   "cell_type": "code",
   "execution_count": 42,
   "metadata": {},
   "outputs": [
    {
     "name": "stdout",
     "output_type": "stream",
     "text": [
      "[47, 4, 0, 1, 40, 88, 98, 91, 70, 94, 41, 73, 38, 60, 3, 55, 18, 19, 48, 92, 54, 34, 28, 53, 79]\n"
     ]
    }
   ],
   "source": [
    "matrice= dataset.import_dataset(\"dataset/small_dataset\")\n",
    "villes = dataset.import_dataset(\"dataset/small_cities\")\n",
    "print(villes)"
   ]
  },
  {
   "cell_type": "code",
   "execution_count": 43,
   "metadata": {},
   "outputs": [
    {
     "data": {
      "text/plain": [
       "4433.9271222971"
      ]
     },
     "execution_count": 43,
     "metadata": {},
     "output_type": "execute_result"
    }
   ],
   "source": [
    "\n",
    "pl.prog_lineaire(matrice, villes)[-1]\n"
   ]
  },
  {
   "cell_type": "code",
   "execution_count": 46,
   "metadata": {},
   "outputs": [],
   "source": [
    "\n",
    "\n",
    "parameters = {\n",
    "    \"nbr_ant\":100,\n",
    "    \"a\":1,\n",
    "    \"b\": 1,\n",
    "    \"p\": 0.1,\n",
    "    \"nb_iter_max\":200, \n",
    "    \"time_max\":[120],\n",
    "}\n",
    "\n",
    "aco_result_list = []\n",
    "ants.aco_algorithm(matrice,parameters,aco_result_list)\n"
   ]
  },
  {
   "cell_type": "code",
   "execution_count": 51,
   "metadata": {},
   "outputs": [
    {
     "name": "stdout",
     "output_type": "stream",
     "text": [
      "7194.820344682961\n"
     ]
    }
   ],
   "source": [
    "print(aco_result_list[0][2])"
   ]
  }
 ],
 "metadata": {
  "kernelspec": {
   "display_name": "algo_env",
   "language": "python",
   "name": "algo_env"
  },
  "language_info": {
   "codemirror_mode": {
    "name": "ipython",
    "version": 3
   },
   "file_extension": ".py",
   "mimetype": "text/x-python",
   "name": "python",
   "nbconvert_exporter": "python",
   "pygments_lexer": "ipython3",
   "version": "3.9.7"
  },
  "orig_nbformat": 4,
  "vscode": {
   "interpreter": {
    "hash": "c95ece1f82b2d4c2994608b6fc976ffa4c753f47c062e325ce6c1fd0d2beaaca"
   }
  }
 },
 "nbformat": 4,
 "nbformat_minor": 2
}
