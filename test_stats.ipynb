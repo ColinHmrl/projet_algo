{
 "cells": [
  {
   "cell_type": "code",
   "execution_count": 3,
   "metadata": {},
   "outputs": [],
   "source": [
    "import ants as ants\n",
    "import prog_lineraire as pl\n",
    "import generator_matrix as gm\n",
    "import dataset"
   ]
  },
  {
   "cell_type": "code",
   "execution_count": 8,
   "metadata": {},
   "outputs": [],
   "source": [
    "\n",
    "nb_city_total = 1000\n",
    "nb_city_selectionned = 200\n",
    "max_value_x = 1080\n",
    "max_value_y = 720\n",
    "probability = 0.2\n",
    "\n",
    "matrix_coordonate, matrix_distance, random_cities, matrix_city_completed = gm.random_matrix_generator(nb_city_total,nb_city_selectionned,max_value_x,max_value_y,probability,False)\n"
   ]
  },
  {
   "cell_type": "code",
   "execution_count": 9,
   "metadata": {},
   "outputs": [],
   "source": [
    "dataset.export_dataset(\"dataset/big_cities\",random_cities)\n",
    "dataset.export_dataset(\"dataset/big_dataset\",matrix_city_completed)"
   ]
  },
  {
   "cell_type": "code",
   "execution_count": 4,
   "metadata": {},
   "outputs": [],
   "source": [
    "matrice= dataset.import_dataset(\"dataset/big_dataset\")\n",
    "villes = dataset.import_dataset(\"dataset/big_cities\")\n"
   ]
  },
  {
   "cell_type": "code",
   "execution_count": 5,
   "metadata": {},
   "outputs": [],
   "source": [
    "\n",
    "pl.prog_lineaire(matrice, villes)[-1]\n"
   ]
  },
  {
   "cell_type": "code",
   "execution_count": 7,
   "metadata": {},
   "outputs": [
    {
     "name": "stdout",
     "output_type": "stream",
     "text": [
      "[(99, 31), (31, 13), (13, 8), (8, 36), (36, 67), (67, 58), (58, 94), (94, 41), (41, 82), (82, 75), (75, 82), (82, 41), (41, 94), (94, 58), (58, 67), (67, 36), (36, 8), (8, 44), (44, 48), (48, 42), (42, 6), (6, 47), (47, 6), (6, 42), (42, 48), (48, 72), (72, 53), (53, 59), (59, 53), (53, 72), (72, 4), (4, 37), (37, 4), (4, 22), (22, 51), (51, 22), (22, 4), (4, 72), (72, 49), (49, 72), (72, 48), (48, 44), (44, 8), (8, 13), (13, 31), (31, 64), (64, 31), (31, 99)]\n",
      "2870.7482484592\n"
     ]
    },
    {
     "data": {
      "text/plain": [
       "([(99, 31),\n",
       "  (31, 13),\n",
       "  (13, 8),\n",
       "  (8, 36),\n",
       "  (36, 67),\n",
       "  (67, 58),\n",
       "  (58, 94),\n",
       "  (94, 41),\n",
       "  (41, 82),\n",
       "  (82, 75),\n",
       "  (75, 82),\n",
       "  (82, 41),\n",
       "  (41, 94),\n",
       "  (94, 58),\n",
       "  (58, 67),\n",
       "  (67, 36),\n",
       "  (36, 8),\n",
       "  (8, 44),\n",
       "  (44, 48),\n",
       "  (48, 42),\n",
       "  (42, 6),\n",
       "  (6, 47),\n",
       "  (47, 6),\n",
       "  (6, 42),\n",
       "  (42, 48),\n",
       "  (48, 72),\n",
       "  (72, 53),\n",
       "  (53, 59),\n",
       "  (59, 53),\n",
       "  (53, 72),\n",
       "  (72, 4),\n",
       "  (4, 37),\n",
       "  (37, 4),\n",
       "  (4, 22),\n",
       "  (22, 51),\n",
       "  (51, 22),\n",
       "  (22, 4),\n",
       "  (4, 72),\n",
       "  (72, 49),\n",
       "  (49, 72),\n",
       "  (72, 48),\n",
       "  (48, 44),\n",
       "  (44, 8),\n",
       "  (8, 13),\n",
       "  (13, 31),\n",
       "  (31, 64),\n",
       "  (64, 31),\n",
       "  (31, 99)],\n",
       " 2870.7482484592)"
      ]
     },
     "execution_count": 7,
     "metadata": {},
     "output_type": "execute_result"
    },
    {
     "data": {
      "image/png": "[encoded data removed]",
      "text/plain": [
       "<Figure size 432x288 with 1 Axes>"
      ]
     },
     "metadata": {},
     "output_type": "display_data"
    }
   ],
   "source": [
    "import algo_aproximation as algo_ap\n",
    "\n",
    "algo_ap.aproximation_algorithm(matrix_coordonate,random_cities,nb_city_selectionned,matrix_city_completed, )"
   ]
  },
  {
   "cell_type": "code",
   "execution_count": 4,
   "metadata": {},
   "outputs": [
    {
     "name": "stderr",
     "output_type": "stream",
     "text": [
      "d:\\CESI\\A3\\Bloc Algorithmique avancee\\Projet\\Git\\projet_algo\\ants.py:111: RuntimeWarning: invalid value encountered in double_scalars\n",
      "  probas_nodes = [weigths_node[y]/sum(weigths_node) for y in range(len(weigths_node))]\n"
     ]
    }
   ],
   "source": [
    "\n",
    "\n",
    "parameters = {\n",
    "    \"nbr_ant\":100,\n",
    "    \"a\":1,\n",
    "    \"b\": 1,\n",
    "    \"p\": 0.1,\n",
    "    \"nb_iter_max\":200, \n",
    "    \"time_max\":[120],\n",
    "}\n",
    "\n",
    "aco_result_list = []\n",
    "ants.aco_algorithm(matrix_city_completed,parameters,aco_result_list)\n"
   ]
  },
  {
   "cell_type": "code",
   "execution_count": 5,
   "metadata": {},
   "outputs": [
    {
     "name": "stdout",
     "output_type": "stream",
     "text": [
      "6389.820574905793\n"
     ]
    }
   ],
   "source": [
    "print(aco_result_list[0][2])"
   ]
  }
 ],
 "metadata": {
  "kernelspec": {
   "display_name": "algo_env",
   "language": "python",
   "name": "algo_env"
  },
  "language_info": {
   "codemirror_mode": {
    "name": "ipython",
    "version": 3
   },
   "file_extension": ".py",
   "mimetype": "text/x-python",
   "name": "python",
   "nbconvert_exporter": "python",
   "pygments_lexer": "ipython3",
   "version": "3.9.7"
  },
  "orig_nbformat": 4,
  "vscode": {
   "interpreter": {
    "hash": "c95ece1f82b2d4c2994608b6fc976ffa4c753f47c062e325ce6c1fd0d2beaaca"
   }
  }
 },
 "nbformat": 4,
 "nbformat_minor": 2
}
