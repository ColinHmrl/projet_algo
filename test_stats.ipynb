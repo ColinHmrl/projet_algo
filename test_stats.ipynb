{
 "cells": [
  {
   "cell_type": "code",
   "execution_count": null,
   "metadata": {},
   "outputs": [],
   "source": [
    "import ants as ants\n",
    "import generator_matrix as gm\n",
    "\n",
    "nb_city_total = 500\n",
    "nb_city_selectionned = 100\n",
    "max_value_x = 1080\n",
    "max_value_y = 720\n",
    "probability = 0.2\n",
    "\n",
    "matrix_coordonate, matrix_distance, random_cities, matrix_city_completed = gm.random_matrix_generator(nb_city_total,nb_city_selectionned,max_value_x,max_value_y,probability,False)\n",
    "\n",
    "\n",
    "parameters = {\n",
    "    \"nbr_ant\":100,\n",
    "    \"a\":1,\n",
    "    \"b\": 1,\n",
    "    \"p\": 0.1,\n",
    "    \"nb_iter_max\":200, \n",
    "    \"time_max\":[120],\n",
    "}\n",
    "\n",
    "aco_result_list = []\n",
    "ants.aco_algorithm(matrix_city_completed,parameters,aco_result_list)\n",
    "print(aco_result_list)"
   ]
  }
 ],
 "metadata": {
  "language_info": {
   "name": "python"
  },
  "orig_nbformat": 4
 },
 "nbformat": 4,
 "nbformat_minor": 2
}
