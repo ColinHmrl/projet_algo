{
 "cells": [
  {
   "cell_type": "markdown",
   "metadata": {},
   "source": [
    "# Génération du dataset"
   ]
  },
  {
   "cell_type": "code",
   "execution_count": 1,
   "metadata": {},
   "outputs": [
    {
     "name": "stdout",
     "output_type": "stream",
     "text": [
      "Matrice coordonées : \n",
      " [[868, 619], [126, 159], [708, 402], [1004, 485], [662, 149], [701, 329], [755, 526], [645, 521], [899, 172], [950, 100], [983, 345], [995, 196], [785, 494], [496, 581], [762, 313], [97, 539], [640, 524], [368, 265], [889, 312], [312, 354], [894, 570], [996, 557], [980, 344], [318, 169], [332, 408], [452, 593], [478, 452], [619, 449], [435, 151], [323, 339], [812, 224], [845, 127], [1004, 290], [808, 619], [640, 103], [974, 355], [946, 367], [283, 645], [647, 467], [226, 304], [134, 76], [469, 111], [567, 484], [94, 275], [256, 445], [809, 394], [116, 642], [913, 327], [684, 287], [212, 543]]\n",
      "\n",
      "---------------------------------------------------------------------------------------\n",
      "\n",
      "Matrice distance : \n",
      " [[         inf          inf          inf ... 295.44711879          inf\n",
      "  660.38776488]\n",
      " [         inf          inf 630.69247657 ...          inf          inf\n",
      "           inf]\n",
      " [         inf 630.69247657          inf ...          inf          inf\n",
      "  515.65201444]\n",
      " ...\n",
      " [295.44711879          inf          inf ...          inf          inf\n",
      "  733.52368742]\n",
      " [         inf          inf          inf ...          inf          inf\n",
      "  536.95437423]\n",
      " [660.38776488          inf 515.65201444 ... 733.52368742 536.95437423\n",
      "           inf]]\n",
      "\n",
      "---------------------------------------------------------------------------------------\n",
      "\n",
      "Liste des villes : \n",
      " [37, 11, 43, 23, 18, 2, 21, 6, 10, 34]\n",
      "\n",
      "---------------------------------------------------------------------------------------\n",
      "\n",
      "Graphe complet : \n",
      " [[  0.         852.66596111 558.98316221 484.69233666 691.4658343\n",
      "  489.56511314 718.41005004 487.18266055 761.57731059 649.00924493]\n",
      " [852.66596111   0.         904.45674302 677.53819081 256.54570277\n",
      "  364.8268223  362.35828668 408.04411526 226.82497125 387.29065603]\n",
      " [558.98316221 904.45674302   0.         416.97008169 837.85313879\n",
      "  630.77129329 957.90091324 740.9693103  891.75164704 590.77048145]\n",
      " [484.69233666 677.53819081 416.97008169   0.         627.37493198\n",
      "  454.3005613  781.170916   702.15239324 720.68860221 328.69438693]\n",
      " [691.4658343  256.54570277 837.85313879 627.37493198   0.\n",
      "  365.37788918 267.34621748 253.48212585  99.62429423 451.07451499]\n",
      " [489.56511314 364.8268223  630.77129329 454.3005613  365.37788918\n",
      "    0.         379.85973648 302.34956236 280.84515306 308.13801255]\n",
      " [718.41005004 362.35828668 957.90091324 781.170916   267.34621748\n",
      "  379.85973648   0.         305.00163965 212.39821092 580.93721678]\n",
      " [487.18266055 408.04411526 740.9693103  702.15239324 253.48212585\n",
      "  302.34956236 305.00163965   0.         353.10642008 438.35373844]\n",
      " [761.57731059 226.82497125 891.75164704 720.68860221  99.62429423\n",
      "  280.84515306 212.39821092 353.10642008   0.         425.41319516]\n",
      " [649.00924493 387.29065603 590.77048145 328.69438693 451.07451499\n",
      "  308.13801255 580.93721678 438.35373844 425.41319516   0.        ]]\n"
     ]
    }
   ],
   "source": [
    "import generator_matrix as gm\n",
    "\n",
    "nb_city_total = 50\n",
    "nb_city_selectionned = 10\n",
    "max_value_x = 1080\n",
    "max_value_y = 720\n",
    "probability = 0.2\n",
    "\n",
    "matrix_coordonate, matrix_distance, random_cities, matrix_city_completed = gm.random_matrix_generator(nb_city_total,nb_city_selectionned,max_value_x,max_value_y,probability,False)\n",
    "\n",
    "\n",
    "print(\"Matrice coordonées : \\n\",matrix_coordonate)\n",
    "print(\"\\n---------------------------------------------------------------------------------------\\n\")\n",
    "print(\"Matrice distance : \\n\",matrix_distance)\n",
    "print(\"\\n---------------------------------------------------------------------------------------\\n\")\n",
    "print(\"Liste des villes : \\n\",random_cities)\n",
    "print(\"\\n---------------------------------------------------------------------------------------\\n\")\n",
    "print(\"Graphe complet : \\n\",matrix_city_completed)\n"
   ]
  },
  {
   "cell_type": "markdown",
   "metadata": {},
   "source": [
    "# Algorithme linéaire"
   ]
  },
  {
   "cell_type": "code",
   "execution_count": 2,
   "metadata": {},
   "outputs": [
    {
     "name": "stdout",
     "output_type": "stream",
     "text": [
      "Route : [[(37, 6), (6, 21), (21, 10), (10, 18), (18, 11), (11, 2), (2, 34), (34, 23), (23, 43), (43, 37)]]\n",
      "Subtour : [5, 2, 2, 2, 1]\n",
      "Time : 0.34159088134765625\n",
      "Status : Optimal\n",
      "Value : 3338.3649737870846\n"
     ]
    }
   ],
   "source": [
    "import algo_lineaire as al\n",
    "\n",
    "route_plan,subtour,time,status,value = al.prog_lineaire(matrix_city_completed, random_cities)\n",
    "\n",
    "print(\"Route :\", route_plan)\n",
    "print(\"Subtour :\", subtour)\n",
    "print(\"Time :\", time)\n",
    "print(\"Status :\", status)\n",
    "print(\"Value :\", value)"
   ]
  },
  {
   "cell_type": "markdown",
   "metadata": {},
   "source": [
    "# Visualisation Pygame"
   ]
  },
  {
   "cell_type": "code",
   "execution_count": 3,
   "metadata": {},
   "outputs": [
    {
     "name": "stdout",
     "output_type": "stream",
     "text": [
      "pygame 2.1.2 (SDL 2.0.18, Python 3.9.12)\n",
      "Hello from the pygame community. https://www.pygame.org/contribute.html\n"
     ]
    },
    {
     "ename": "KeyboardInterrupt",
     "evalue": "",
     "output_type": "error",
     "traceback": [
      "\u001b[1;31m---------------------------------------------------------------------------\u001b[0m",
      "\u001b[1;31mKeyboardInterrupt\u001b[0m                         Traceback (most recent call last)",
      "\u001b[1;32mc:\\Users\\kevin\\algo_env\\Projet\\Pierre_Projet.ipynb Cell 6'\u001b[0m in \u001b[0;36m<cell line: 8>\u001b[1;34m()\u001b[0m\n\u001b[0;32m      <a href='vscode-notebook-cell:/c%3A/Users/kevin/algo_env/Projet/Pierre_Projet.ipynb#ch0000007?line=4'>5</a>\u001b[0m window \u001b[39m=\u001b[39m pygame\u001b[39m.\u001b[39mdisplay\u001b[39m.\u001b[39mset_mode((\u001b[39m1080\u001b[39m, \u001b[39m720\u001b[39m))\n\u001b[0;32m      <a href='vscode-notebook-cell:/c%3A/Users/kevin/algo_env/Projet/Pierre_Projet.ipynb#ch0000007?line=5'>6</a>\u001b[0m window\u001b[39m.\u001b[39mfill((\u001b[39m255\u001b[39m, \u001b[39m255\u001b[39m, \u001b[39m255\u001b[39m))\n\u001b[1;32m----> <a href='vscode-notebook-cell:/c%3A/Users/kevin/algo_env/Projet/Pierre_Projet.ipynb#ch0000007?line=7'>8</a>\u001b[0m vis_l\u001b[39m.\u001b[39;49mdraw_nodes_and_bases_routes(matrix_coordonate, window, route_plan)\n",
      "File \u001b[1;32mc:\\Users\\kevin\\algo_env\\Projet\\visualisation_data.py:29\u001b[0m, in \u001b[0;36mdraw_nodes_and_bases_routes\u001b[1;34m(nodes, window, route_list)\u001b[0m\n\u001b[0;32m     26\u001b[0m pygame\u001b[39m.\u001b[39mdisplay\u001b[39m.\u001b[39mupdate()\n\u001b[0;32m     28\u001b[0m \u001b[39mwhile\u001b[39;00m \u001b[39mTrue\u001b[39;00m:\n\u001b[1;32m---> 29\u001b[0m     \u001b[39mif\u001b[39;00m pygame\u001b[39m.\u001b[39mevent\u001b[39m.\u001b[39mget(pygame\u001b[39m.\u001b[39mQUIT):\n\u001b[0;32m     30\u001b[0m         \u001b[39mbreak\u001b[39;00m\n\u001b[0;32m     33\u001b[0m pygame\u001b[39m.\u001b[39mquit()\n",
      "\u001b[1;31mKeyboardInterrupt\u001b[0m: "
     ]
    },
    {
     "ename": "",
     "evalue": "",
     "output_type": "error",
     "traceback": [
      "\u001b[1;31mThe Kernel crashed while executing code in the the current cell or a previous cell. Please review the code in the cell(s) to identify a possible cause of the failure. Click <a href='https://aka.ms/vscodeJupyterKernelCrash'>here</a> for more info. View Jupyter <a href='command:jupyter.viewOutput'>log</a> for further details."
     ]
    }
   ],
   "source": [
    "import pygame\n",
    "import visualisation_data as vis_l\n",
    "\n",
    "pygame.init()\n",
    "window = pygame.display.set_mode((1080, 720))\n",
    "window.fill((255, 255, 255))\n",
    "\n",
    "vis_l.draw_nodes_and_bases_routes(matrix_coordonate, window, route_plan)"
   ]
  }
 ],
 "metadata": {
  "kernelspec": {
   "display_name": "algo_env",
   "language": "python",
   "name": "algo_env"
  },
  "language_info": {
   "codemirror_mode": {
    "name": "ipython",
    "version": 3
   },
   "file_extension": ".py",
   "mimetype": "text/x-python",
   "name": "python",
   "nbconvert_exporter": "python",
   "pygments_lexer": "ipython3",
   "version": "3.9.12"
  },
  "orig_nbformat": 4,
  "vscode": {
   "interpreter": {
    "hash": "2da5dc82b5499103febd2f3394828446988150bb38f9614c0523a529ca33a286"
   }
  }
 },
 "nbformat": 4,
 "nbformat_minor": 2
}
