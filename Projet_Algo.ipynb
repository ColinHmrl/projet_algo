{
 "cells": [
  {
   "cell_type": "markdown",
   "metadata": {},
   "source": [
    "# Génération du dataset"
   ]
  },
  {
   "cell_type": "code",
   "execution_count": 26,
   "metadata": {},
   "outputs": [
    {
     "name": "stdout",
     "output_type": "stream",
     "text": [
      "Matrice coordonées : \n",
      " [[984, 532], [473, 588], [483, 224], [651, 454], [752, 476], [670, 470], [675, 525], [237, 584], [606, 401], [433, 556], [174, 485], [173, 562], [604, 212], [178, 248], [564, 548], [589, 282], [668, 187], [279, 541], [663, 575], [798, 373], [899, 160], [859, 147], [734, 531], [376, 240], [957, 311], [776, 297], [118, 184], [239, 376], [413, 542], [927, 162], [653, 453], [233, 251], [824, 246], [500, 164], [487, 532], [414, 638], [140, 385], [250, 646], [178, 539], [555, 466], [741, 431], [856, 378], [782, 358], [741, 232], [589, 582], [980, 240], [656, 527], [86, 255], [224, 648], [292, 127]]\n",
      "\n",
      "---------------------------------------------------------------------------------------\n",
      "\n",
      "Matrice distance : \n",
      " [[         inf          inf          inf ... 939.75156291          inf\n",
      "           inf]\n",
      " [         inf          inf          inf ...          inf          inf\n",
      "  495.25952792]\n",
      " [         inf          inf          inf ...          inf          inf\n",
      "           inf]\n",
      " ...\n",
      " [939.75156291          inf          inf ...          inf          inf\n",
      "           inf]\n",
      " [         inf          inf          inf ...          inf          inf\n",
      "           inf]\n",
      " [         inf 495.25952792          inf ...          inf          inf\n",
      "           inf]]\n",
      "\n",
      "---------------------------------------------------------------------------------------\n",
      "\n",
      "Liste des villes : \n",
      " [43, 18, 35, 17, 39, 47, 40, 33, 14, 49]\n",
      "\n",
      "---------------------------------------------------------------------------------------\n",
      "\n",
      "Graphe complet : \n",
      " [[  0.         452.36184976 521.31084777 605.25159323 298.91804897\n",
      "  655.40369239 329.37082387 586.33438193 401.42508118 461.1138688 ]\n",
      " [452.36184976   0.         375.85108484 385.50226977 153.44380079\n",
      "  659.79466503 296.34939411 442.14251096 334.43967486 581.6743075 ]\n",
      " [521.31084777 375.85108484   0.         273.12617694 222.40728405\n",
      "  504.25489586 402.04919473 481.73851829 319.04228355 578.20481117]\n",
      " [605.25159323 385.50226977 273.12617694   0.         306.33354426\n",
      "  345.02898429 487.16604728 437.00114416 285.08595195 414.20405599]\n",
      " [298.91804897 153.44380079 222.40728405 306.33354426   0.\n",
      "  568.74414781 246.21398805 423.70427672 212.35783267 429.05710576]\n",
      " [655.40369239 659.79466503 504.25489586 345.02898429 568.74414781\n",
      "    0.         678.23373552 423.88323864 560.6540823  759.23304028]\n",
      " [329.37082387 296.34939411 402.04919473 487.16604728 246.21398805\n",
      "  678.23373552   0.         359.6804137  222.58877048 542.2333446 ]\n",
      " [586.33438193 442.14251096 481.73851829 437.00114416 423.70427672\n",
      "  423.88323864 359.6804137    0.         489.46756039 812.55990202]\n",
      " [401.42508118 334.43967486 319.04228355 285.08595195 212.35783267\n",
      "  560.6540823  222.58877048 489.46756039   0.         582.8212834 ]\n",
      " [461.1138688  581.6743075  578.20481117 414.20405599 429.05710576\n",
      "  759.23304028 542.2333446  812.55990202 582.8212834    0.        ]]\n"
     ]
    }
   ],
   "source": [
    "import generator_matrix as gm\n",
    "\n",
    "nb_city_total = 50\n",
    "nb_city_selectionned = 10\n",
    "max_value_x = 1080\n",
    "max_value_y = 720\n",
    "probability = 0.2\n",
    "\n",
    "matrix_coordonate, matrix_distance, random_cities, matrix_city_completed = gm.random_matrix_generator(nb_city_total,nb_city_selectionned,max_value_x,max_value_y,probability,False)\n",
    "\n",
    "\n",
    "print(\"Matrice coordonées : \\n\",matrix_coordonate)\n",
    "print(\"\\n---------------------------------------------------------------------------------------\\n\")\n",
    "print(\"Matrice distance : \\n\",matrix_distance)\n",
    "print(\"\\n---------------------------------------------------------------------------------------\\n\")\n",
    "print(\"Liste des villes : \\n\",random_cities)\n",
    "print(\"\\n---------------------------------------------------------------------------------------\\n\")\n",
    "print(\"Graphe complet : \\n\",matrix_city_completed)\n"
   ]
  },
  {
   "cell_type": "markdown",
   "metadata": {},
   "source": [
    "# Algorithme linéaire"
   ]
  },
  {
   "cell_type": "code",
   "execution_count": 27,
   "metadata": {},
   "outputs": [
    {
     "name": "stdout",
     "output_type": "stream",
     "text": [
      "Route : [[(43, 40), (40, 14), (14, 35), (35, 39), (39, 18), (18, 33), (33, 47), (47, 17), (17, 49), (49, 43)]]\n",
      "Subtour : [1]\n",
      "Time : 0.06101369857788086\n",
      "Status : Optimal\n",
      "Value : 3333.225621424637\n"
     ]
    }
   ],
   "source": [
    "import prog_lineraire as al\n",
    "\n",
    "route_plan,subtour,time,status,value = al.prog_lineaire(matrix_city_completed, random_cities)\n",
    "\n",
    "print(\"Route :\", route_plan)\n",
    "print(\"Subtour :\", subtour)\n",
    "print(\"Time :\", time)\n",
    "print(\"Status :\", status)\n",
    "print(\"Value :\", value)"
   ]
  },
  {
   "cell_type": "markdown",
   "metadata": {},
   "source": [
    "# Visualisation Pygame"
   ]
  },
  {
   "cell_type": "code",
   "execution_count": 28,
   "metadata": {},
   "outputs": [
    {
     "ename": "KeyboardInterrupt",
     "evalue": "",
     "output_type": "error",
     "traceback": [
      "\u001b[1;31m---------------------------------------------------------------------------\u001b[0m",
      "\u001b[1;31mKeyboardInterrupt\u001b[0m                         Traceback (most recent call last)",
      "\u001b[1;32mc:\\Users\\kevin\\algo_env\\Projet\\Projet\\Final_Project\\projet_algo\\Projet_Algo.ipynb Cell 6'\u001b[0m in \u001b[0;36m<cell line: 8>\u001b[1;34m()\u001b[0m\n\u001b[0;32m      <a href='vscode-notebook-cell:/c%3A/Users/kevin/algo_env/Projet/Projet/Final_Project/projet_algo/Projet_Algo.ipynb#ch0000005?line=4'>5</a>\u001b[0m window \u001b[39m=\u001b[39m pygame\u001b[39m.\u001b[39mdisplay\u001b[39m.\u001b[39mset_mode((\u001b[39m1080\u001b[39m, \u001b[39m720\u001b[39m))\n\u001b[0;32m      <a href='vscode-notebook-cell:/c%3A/Users/kevin/algo_env/Projet/Projet/Final_Project/projet_algo/Projet_Algo.ipynb#ch0000005?line=5'>6</a>\u001b[0m window\u001b[39m.\u001b[39mfill((\u001b[39m255\u001b[39m, \u001b[39m255\u001b[39m, \u001b[39m255\u001b[39m))\n\u001b[1;32m----> <a href='vscode-notebook-cell:/c%3A/Users/kevin/algo_env/Projet/Projet/Final_Project/projet_algo/Projet_Algo.ipynb#ch0000005?line=7'>8</a>\u001b[0m vis_l\u001b[39m.\u001b[39;49mdraw_nodes_and_bases_routes(matrix_coordonate, window, route_plan)\n",
      "File \u001b[1;32mc:\\Users\\kevin\\algo_env\\Projet\\Projet\\Final_Project\\projet_algo\\visualisation_data.py:29\u001b[0m, in \u001b[0;36mdraw_nodes_and_bases_routes\u001b[1;34m(nodes, window, route_list)\u001b[0m\n\u001b[0;32m     26\u001b[0m pygame\u001b[39m.\u001b[39mdisplay\u001b[39m.\u001b[39mupdate()\n\u001b[0;32m     28\u001b[0m \u001b[39mwhile\u001b[39;00m \u001b[39mTrue\u001b[39;00m:\n\u001b[1;32m---> 29\u001b[0m     \u001b[39mif\u001b[39;00m pygame\u001b[39m.\u001b[39mevent\u001b[39m.\u001b[39mget(pygame\u001b[39m.\u001b[39mQUIT):\n\u001b[0;32m     30\u001b[0m         \u001b[39mbreak\u001b[39;00m\n\u001b[0;32m     33\u001b[0m pygame\u001b[39m.\u001b[39mquit()\n",
      "\u001b[1;31mKeyboardInterrupt\u001b[0m: "
     ]
    },
    {
     "ename": "",
     "evalue": "",
     "output_type": "error",
     "traceback": [
      "\u001b[1;31mThe Kernel crashed while executing code in the the current cell or a previous cell. Please review the code in the cell(s) to identify a possible cause of the failure. Click <a href='https://aka.ms/vscodeJupyterKernelCrash'>here</a> for more info. View Jupyter <a href='command:jupyter.viewOutput'>log</a> for further details."
     ]
    }
   ],
   "source": [
    "import pygame\n",
    "import visualisation_data as vis_l\n",
    "\n",
    "pygame.init()\n",
    "window = pygame.display.set_mode((1080, 720))\n",
    "window.fill((255, 255, 255))\n",
    "\n",
    "vis_l.draw_nodes_and_bases_routes(matrix_coordonate, window, route_plan)"
   ]
  },
  {
   "cell_type": "markdown",
   "metadata": {},
   "source": [
    "# Algorithme de 2-aproximation"
   ]
  },
  {
   "cell_type": "code",
   "execution_count": null,
   "metadata": {},
   "outputs": [
    {
     "name": "stdout",
     "output_type": "stream",
     "text": [
      "[(34, 49), (49, 12), (12, 38), (38, 46), (46, 38), (38, 3), (3, 38), (38, 12), (12, 24), (24, 12), (12, 49), (49, 5), (5, 26), (26, 5), (5, 6), (6, 5), (5, 49), (49, 34)]\n",
      "1310.6268710843638\n"
     ]
    },
    {
     "data": {
      "image/png": "[encoded data removed]",
      "text/plain": [
       "<Figure size 432x288 with 1 Axes>"
      ]
     },
     "metadata": {},
     "output_type": "display_data"
    },
    {
     "data": {
      "text/plain": [
       "([(34, 49),\n",
       "  (49, 12),\n",
       "  (12, 38),\n",
       "  (38, 46),\n",
       "  (46, 38),\n",
       "  (38, 3),\n",
       "  (3, 38),\n",
       "  (38, 12),\n",
       "  (12, 24),\n",
       "  (24, 12),\n",
       "  (12, 49),\n",
       "  (49, 5),\n",
       "  (5, 26),\n",
       "  (26, 5),\n",
       "  (5, 6),\n",
       "  (6, 5),\n",
       "  (5, 49),\n",
       "  (49, 34)],\n",
       " 1310.6268710843638)"
      ]
     },
     "execution_count": 25,
     "metadata": {},
     "output_type": "execute_result"
    }
   ],
   "source": [
    "import algo_aproximation as algo_ap\n",
    "\n",
    "algo_ap.aproximation_algorithm(matrix_coordonate,random_cities,nb_city_selectionned,matrix_city_completed, )"
   ]
  }
 ],
 "metadata": {
  "kernelspec": {
   "display_name": "algo_env",
   "language": "python",
   "name": "algo_env"
  },
  "language_info": {
   "codemirror_mode": {
    "name": "ipython",
    "version": 3
   },
   "file_extension": ".py",
   "mimetype": "text/x-python",
   "name": "python",
   "nbconvert_exporter": "python",
   "pygments_lexer": "ipython3",
   "version": "3.9.12"
  },
  "orig_nbformat": 4,
  "vscode": {
   "interpreter": {
    "hash": "2da5dc82b5499103febd2f3394828446988150bb38f9614c0523a529ca33a286"
   }
  }
 },
 "nbformat": 4,
 "nbformat_minor": 2
}
