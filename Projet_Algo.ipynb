{
 "cells": [
  {
   "cell_type": "markdown",
   "metadata": {},
   "source": [
    "# Génération du dataset"
   ]
  },
  {
   "cell_type": "code",
   "execution_count": 3,
   "metadata": {},
   "outputs": [
    {
     "name": "stdout",
     "output_type": "stream",
     "text": [
      "Matrice coordonées : \n",
      " [[120, 636], [861, 356], [419, 95], [528, 89], [832, 402], [453, 154], [851, 203], [262, 214], [661, 486], [871, 363], [371, 648], [450, 478], [75, 345], [393, 296], [620, 93], [470, 504], [898, 443], [999, 93], [551, 213], [142, 521], [506, 304], [555, 345], [421, 610], [428, 103], [791, 547], [716, 105], [904, 535], [379, 414], [705, 638], [867, 631], [805, 413], [201, 636], [728, 612], [78, 288], [975, 509], [864, 264], [136, 155], [553, 500], [152, 516], [341, 187], [502, 636], [381, 226], [586, 410], [818, 213], [397, 641], [429, 265], [263, 491], [259, 463], [870, 642], [489, 104]]\n",
      "\n",
      "---------------------------------------------------------------------------------------\n",
      "\n",
      "Matrice distance : \n",
      " [[         inf          inf 618.1278185  ... 221.92341021          inf\n",
      "           inf]\n",
      " [         inf          inf 513.3078998  ...          inf          inf\n",
      "           inf]\n",
      " [618.1278185  513.3078998           inf ...          inf 708.94992771\n",
      "           inf]\n",
      " ...\n",
      " [221.92341021          inf          inf ...          inf 636.6804536\n",
      "           inf]\n",
      " [         inf          inf 708.94992771 ... 636.6804536           inf\n",
      "  659.24578118]\n",
      " [         inf          inf          inf ...          inf 659.24578118\n",
      "           inf]]\n",
      "\n",
      "---------------------------------------------------------------------------------------\n",
      "\n",
      "Liste des villes : \n",
      " [22, 17, 20, 26, 43, 29, 46, 8, 11, 27]\n",
      "\n",
      "---------------------------------------------------------------------------------------\n",
      "\n",
      "Graphe complet : \n",
      " [[  0.         775.48243049 317.58620877 488.78829773 642.58620877\n",
      "  533.59647186 337.03133229 360.73160958 149.58000527 244.76584705]\n",
      " [775.48243049   0.         536.2555361  452.09401677 315.4520192\n",
      "  553.95667701 839.16630459 605.15074371 670.63830329 728.33983955]\n",
      " [317.58620877 536.2555361    0.         487.46717288 325.\n",
      "  487.08315512 597.60420137 239.57606775 450.72767206 335.35038145]\n",
      " [488.78829773 452.09401677 487.46717288   0.         333.41751671\n",
      "  349.10606471 642.5083657  247.89110512 457.56420315 561.70521421]\n",
      " [642.58620877 315.4520192  325.         333.41751671   0.\n",
      "  424.39059534 620.73281038 387.86235742 495.95613168 482.8270912 ]\n",
      " [533.59647186 553.95667701 487.08315512 349.10606471 424.39059534\n",
      "    0.         620.01290309 339.57026542 449.62134446 544.80718623]\n",
      " [337.03133229 839.16630459 597.60420137 642.5083657  620.73281038\n",
      "  620.01290309   0.         398.60293132 187.45132702 348.24204666]\n",
      " [360.73160958 605.15074371 239.57606775 247.89110512 387.86235742\n",
      "  339.57026542 398.60293132   0.         211.1516043  313.81410908]\n",
      " [149.58000527 670.63830329 450.72767206 457.56420315 495.95613168\n",
      "  449.62134446 187.45132702 211.1516043    0.         160.79071965]\n",
      " [244.76584705 728.33983955 335.35038145 561.70521421 482.8270912\n",
      "  544.80718623 348.24204666 313.81410908 160.79071965   0.        ]]\n"
     ]
    }
   ],
   "source": [
    "import generator_matrix as gm\n",
    "\n",
    "nb_city_total = 50\n",
    "nb_city_selectionned = 10\n",
    "max_value_x = 1080\n",
    "max_value_y = 720\n",
    "probability = 0.2\n",
    "\n",
    "matrix_coordonate, matrix_distance, random_cities, matrix_city_completed = gm.random_matrix_generator(nb_city_total,nb_city_selectionned,max_value_x,max_value_y,probability,False)\n",
    "\n",
    "\n",
    "print(\"Matrice coordonées : \\n\",matrix_coordonate)\n",
    "print(\"\\n---------------------------------------------------------------------------------------\\n\")\n",
    "print(\"Matrice distance : \\n\",matrix_distance)\n",
    "print(\"\\n---------------------------------------------------------------------------------------\\n\")\n",
    "print(\"Liste des villes : \\n\",random_cities)\n",
    "print(\"\\n---------------------------------------------------------------------------------------\\n\")\n",
    "print(\"Graphe complet : \\n\",matrix_city_completed)\n"
   ]
  },
  {
   "cell_type": "markdown",
   "metadata": {},
   "source": [
    "# Algorithme linéaire"
   ]
  },
  {
   "cell_type": "code",
   "execution_count": 4,
   "metadata": {},
   "outputs": [
    {
     "name": "stdout",
     "output_type": "stream",
     "text": [
      "Route : [[(22, 27), (27, 46), (46, 11), (11, 8), (8, 29), (29, 26), (26, 17), (17, 43), (43, 20), (20, 22)]]\n",
      "Subtour : [2, 2, 2, 2, 2, 2, 1]\n",
      "Time : 0.5242278575897217\n",
      "Status : Optimal\n",
      "Value : 3090.419399906592\n"
     ]
    }
   ],
   "source": [
    "import prog_lineraire as al\n",
    "\n",
    "route_plan,subtour,time,status,value = al.prog_lineaire(matrix_city_completed, random_cities)\n",
    "\n",
    "print(\"Route :\", route_plan)\n",
    "print(\"Subtour :\", subtour)\n",
    "print(\"Time :\", time)\n",
    "print(\"Status :\", status)\n",
    "print(\"Value :\", value)"
   ]
  },
  {
   "cell_type": "markdown",
   "metadata": {},
   "source": [
    "# Visualisation Pygame"
   ]
  },
  {
   "cell_type": "code",
   "execution_count": 2,
   "metadata": {},
   "outputs": [
    {
     "name": "stdout",
     "output_type": "stream",
     "text": [
      "pygame 2.1.2 (SDL 2.0.18, Python 3.9.12)\n",
      "Hello from the pygame community. https://www.pygame.org/contribute.html\n"
     ]
    },
    {
     "ename": "NameError",
     "evalue": "name 'route_plan' is not defined",
     "output_type": "error",
     "traceback": [
      "\u001b[1;31m---------------------------------------------------------------------------\u001b[0m",
      "\u001b[1;31mNameError\u001b[0m                                 Traceback (most recent call last)",
      "\u001b[1;32mc:\\Users\\kevin\\algo_env\\Projet\\Projet\\Final_Project\\projet_algo\\Projet_Algo.ipynb Cell 4'\u001b[0m in \u001b[0;36m<cell line: 8>\u001b[1;34m()\u001b[0m\n\u001b[0;32m      <a href='vscode-notebook-cell:/c%3A/Users/kevin/algo_env/Projet/Projet/Final_Project/projet_algo/Projet_Algo.ipynb#ch0000003?line=4'>5</a>\u001b[0m window \u001b[39m=\u001b[39m pygame\u001b[39m.\u001b[39mdisplay\u001b[39m.\u001b[39mset_mode((\u001b[39m1080\u001b[39m, \u001b[39m720\u001b[39m))\n\u001b[0;32m      <a href='vscode-notebook-cell:/c%3A/Users/kevin/algo_env/Projet/Projet/Final_Project/projet_algo/Projet_Algo.ipynb#ch0000003?line=5'>6</a>\u001b[0m window\u001b[39m.\u001b[39mfill((\u001b[39m255\u001b[39m, \u001b[39m255\u001b[39m, \u001b[39m255\u001b[39m))\n\u001b[1;32m----> <a href='vscode-notebook-cell:/c%3A/Users/kevin/algo_env/Projet/Projet/Final_Project/projet_algo/Projet_Algo.ipynb#ch0000003?line=7'>8</a>\u001b[0m vis_l\u001b[39m.\u001b[39mdraw_nodes_and_bases_routes(matrix_coordonate, window, route_plan)\n",
      "\u001b[1;31mNameError\u001b[0m: name 'route_plan' is not defined"
     ]
    }
   ],
   "source": [
    "import pygame\n",
    "import visualisation_data as vis_l\n",
    "\n",
    "pygame.init()\n",
    "window = pygame.display.set_mode((1080, 720))\n",
    "window.fill((255, 255, 255))\n",
    "\n",
    "vis_l.draw_nodes_and_bases_routes(matrix_coordonate, window, route_plan)"
   ]
  },
  {
   "cell_type": "markdown",
   "metadata": {},
   "source": [
    "# Algorithme de 2-aproximation"
   ]
  },
  {
   "cell_type": "code",
   "execution_count": 5,
   "metadata": {},
   "outputs": [
    {
     "name": "stdout",
     "output_type": "stream",
     "text": [
      "[(22, 11), (11, 27), (27, 46), (46, 27), (27, 20), (20, 27), (27, 11), (11, 8), (8, 43), (43, 17), (17, 43), (43, 8), (8, 26), (26, 29), (29, 26), (26, 8), (8, 11), (11, 22)]\n",
      "1684.0560182870076\n"
     ]
    },
    {
     "data": {
      "text/plain": [
       "([(22, 11),\n",
       "  (11, 27),\n",
       "  (27, 46),\n",
       "  (46, 27),\n",
       "  (27, 20),\n",
       "  (20, 27),\n",
       "  (27, 11),\n",
       "  (11, 8),\n",
       "  (8, 43),\n",
       "  (43, 17),\n",
       "  (17, 43),\n",
       "  (43, 8),\n",
       "  (8, 26),\n",
       "  (26, 29),\n",
       "  (29, 26),\n",
       "  (26, 8),\n",
       "  (8, 11),\n",
       "  (11, 22)],\n",
       " 1684.0560182870076)"
      ]
     },
     "execution_count": 5,
     "metadata": {},
     "output_type": "execute_result"
    },
    {
     "data": {
      "image/png": "[encoded data removed]",
      "text/plain": [
       "<Figure size 432x288 with 1 Axes>"
      ]
     },
     "metadata": {},
     "output_type": "display_data"
    }
   ],
   "source": [
    "import algo_aproximation as algo_ap\n",
    "\n",
    "algo_ap.aproximation_algorithm(matrix_coordonate,random_cities,nb_city_selectionned,matrix_city_completed, )"
   ]
  }
 ],
 "metadata": {
  "kernelspec": {
   "display_name": "algo_env",
   "language": "python",
   "name": "algo_env"
  },
  "language_info": {
   "codemirror_mode": {
    "name": "ipython",
    "version": 3
   },
   "file_extension": ".py",
   "mimetype": "text/x-python",
   "name": "python",
   "nbconvert_exporter": "python",
   "pygments_lexer": "ipython3",
   "version": "3.9.12"
  },
  "orig_nbformat": 4,
  "vscode": {
   "interpreter": {
    "hash": "2da5dc82b5499103febd2f3394828446988150bb38f9614c0523a529ca33a286"
   }
  }
 },
 "nbformat": 4,
 "nbformat_minor": 2
}
