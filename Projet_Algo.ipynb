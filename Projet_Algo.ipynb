{
 "cells": [
  {
   "cell_type": "markdown",
   "metadata": {},
   "source": [
    "# Génération du dataset"
   ]
  },
  {
   "cell_type": "code",
   "execution_count": 23,
   "metadata": {},
   "outputs": [
    {
     "name": "stdout",
     "output_type": "stream",
     "text": [
      "Matrice coordonées : \n",
      " [[768, 289], [197, 218], [196, 405], [556, 226], [821, 365], [130, 384], [294, 313], [867, 621], [194, 219], [129, 539], [112, 350], [848, 176], [382, 303], [315, 324], [687, 325], [477, 548], [351, 521], [604, 318], [616, 325], [507, 480], [565, 105], [254, 223], [364, 468], [759, 618], [383, 525], [552, 318], [310, 466], [257, 597], [605, 391], [81, 536], [171, 444], [248, 583], [402, 425], [974, 546], [881, 79], [488, 416], [692, 370], [464, 517], [183, 604], [986, 596], [266, 382], [277, 554], [153, 144], [911, 532], [1003, 147], [510, 364], [851, 329], [311, 533], [399, 305], [121, 495]]\n",
      "\n",
      "---------------------------------------------------------------------------------------\n",
      "\n",
      "Matrice distance : \n",
      " [[         inf          inf          inf ...          inf 369.34672058\n",
      "  679.0029455 ]\n",
      " [         inf          inf          inf ...          inf 219.9386278\n",
      "           inf]\n",
      " [         inf          inf          inf ...          inf          inf\n",
      "           inf]\n",
      " ...\n",
      " [         inf          inf          inf ...          inf          inf\n",
      "           inf]\n",
      " [369.34672058 219.9386278           inf ...          inf          inf\n",
      "           inf]\n",
      " [679.0029455           inf          inf ...          inf          inf\n",
      "           inf]]\n",
      "\n",
      "---------------------------------------------------------------------------------------\n",
      "\n",
      "Liste des villes : \n",
      " [25, 45, 46, 17, 28, 18, 42, 32, 3, 15]\n",
      "\n",
      "---------------------------------------------------------------------------------------\n",
      "\n",
      "Graphe complet : \n",
      " [[  0.         316.42704927 319.93657931 220.07380365 236.68812916\n",
      "  206.18135966 447.55299504 302.34046194 299.38245588 254.47480241]\n",
      " [316.42704927   0.         353.57828769 104.65180362 383.21891381\n",
      "  118.54424761 508.12650353 335.02556741 345.44678582 186.93581786]\n",
      " [319.93657931 353.57828769   0.         248.92648408 484.58644769\n",
      "  235.03404009 722.10040853 459.14812425 312.46439797 463.86307576]\n",
      " [220.07380365 104.65180362 248.92648408   0.         290.58452119\n",
      "   13.89244399 525.81385465 307.35271604 249.09354021 263.14363683]\n",
      " [236.68812916 383.21891381 484.58644769 290.58452119   0.\n",
      "  276.6920772  515.08542981 304.93459288 172.12204972 202.56603861]\n",
      " [206.18135966 118.54424761 235.03404009  13.89244399 276.6920772\n",
      "    0.         511.92141066 308.02148186 235.20109622 263.81240265]\n",
      " [447.55299504 508.12650353 722.10040853 525.81385465 515.08542981\n",
      "  511.92141066   0.         459.01201744 469.75721268 517.8725712 ]\n",
      " [302.34046194 335.02556741 459.14812425 307.35271604 304.93459288\n",
      "  308.02148186 459.01201744   0.         377.21589985 192.85631262]\n",
      " [299.38245588 345.44678582 312.46439797 249.09354021 172.12204972\n",
      "  235.20109622 469.75721268 377.21589985   0.         331.549393  ]\n",
      " [254.47480241 186.93581786 463.86307576 263.14363683 202.56603861\n",
      "  263.81240265 517.8725712  192.85631262 331.549393     0.        ]]\n"
     ]
    }
   ],
   "source": [
    "import generator_matrix as gm\n",
    "\n",
    "nb_city_total = 50\n",
    "nb_city_selectionned = 10\n",
    "max_value_x = 1080\n",
    "max_value_y = 720\n",
    "probability = 0.2\n",
    "\n",
    "matrix_coordonate, matrix_distance, random_cities, matrix_city_completed = gm.random_matrix_generator(nb_city_total,nb_city_selectionned,max_value_x,max_value_y,probability,False)\n",
    "\n",
    "\n",
    "print(\"Matrice coordonées : \\n\",matrix_coordonate)\n",
    "print(\"\\n---------------------------------------------------------------------------------------\\n\")\n",
    "print(\"Matrice distance : \\n\",matrix_distance)\n",
    "print(\"\\n---------------------------------------------------------------------------------------\\n\")\n",
    "print(\"Liste des villes : \\n\",random_cities)\n",
    "print(\"\\n---------------------------------------------------------------------------------------\\n\")\n",
    "print(\"Graphe complet : \\n\",matrix_city_completed)\n"
   ]
  },
  {
   "cell_type": "markdown",
   "metadata": {},
   "source": [
    "# Algorithme linéaire"
   ]
  },
  {
   "cell_type": "code",
   "execution_count": 24,
   "metadata": {},
   "outputs": [
    {
     "name": "stdout",
     "output_type": "stream",
     "text": [
      "Route : [[(25, 42), (42, 32), (32, 15), (15, 45), (45, 17), (17, 18), (18, 46), (46, 3), (3, 28), (28, 25)]]\n",
      "Subtour : [2, 2, 1]\n",
      "Time : 0.4232156276702881\n",
      "Status : Optimal\n",
      "Value : 2361.210007499528\n"
     ]
    }
   ],
   "source": [
    "import prog_lineraire as al\n",
    "\n",
    "route_plan,subtour,time,status,value = al.prog_lineaire(matrix_city_completed, random_cities)\n",
    "\n",
    "print(\"Route :\", route_plan)\n",
    "print(\"Subtour :\", subtour)\n",
    "print(\"Time :\", time)\n",
    "print(\"Status :\", status)\n",
    "print(\"Value :\", value)"
   ]
  },
  {
   "cell_type": "markdown",
   "metadata": {},
   "source": [
    "# Visualisation Pygame"
   ]
  },
  {
   "cell_type": "code",
   "execution_count": 25,
   "metadata": {},
   "outputs": [
    {
     "ename": "KeyboardInterrupt",
     "evalue": "",
     "output_type": "error",
     "traceback": [
      "\u001b[1;31m---------------------------------------------------------------------------\u001b[0m",
      "\u001b[1;31mKeyboardInterrupt\u001b[0m                         Traceback (most recent call last)",
      "\u001b[1;32mc:\\Users\\kevin\\algo_env\\Projet\\Projet\\Final_Project\\projet_algo\\Projet_Algo.ipynb Cell 6'\u001b[0m in \u001b[0;36m<cell line: 8>\u001b[1;34m()\u001b[0m\n\u001b[0;32m      <a href='vscode-notebook-cell:/c%3A/Users/kevin/algo_env/Projet/Projet/Final_Project/projet_algo/Projet_Algo.ipynb#ch0000005?line=4'>5</a>\u001b[0m window \u001b[39m=\u001b[39m pygame\u001b[39m.\u001b[39mdisplay\u001b[39m.\u001b[39mset_mode((\u001b[39m1080\u001b[39m, \u001b[39m720\u001b[39m))\n\u001b[0;32m      <a href='vscode-notebook-cell:/c%3A/Users/kevin/algo_env/Projet/Projet/Final_Project/projet_algo/Projet_Algo.ipynb#ch0000005?line=5'>6</a>\u001b[0m window\u001b[39m.\u001b[39mfill((\u001b[39m255\u001b[39m, \u001b[39m255\u001b[39m, \u001b[39m255\u001b[39m))\n\u001b[1;32m----> <a href='vscode-notebook-cell:/c%3A/Users/kevin/algo_env/Projet/Projet/Final_Project/projet_algo/Projet_Algo.ipynb#ch0000005?line=7'>8</a>\u001b[0m vis_l\u001b[39m.\u001b[39;49mdraw_nodes_and_bases_routes(matrix_coordonate, window, route_plan)\n",
      "File \u001b[1;32mc:\\Users\\kevin\\algo_env\\Projet\\Projet\\Final_Project\\projet_algo\\visualisation_data.py:29\u001b[0m, in \u001b[0;36mdraw_nodes_and_bases_routes\u001b[1;34m(nodes, window, route_list)\u001b[0m\n\u001b[0;32m     26\u001b[0m pygame\u001b[39m.\u001b[39mdisplay\u001b[39m.\u001b[39mupdate()\n\u001b[0;32m     28\u001b[0m \u001b[39mwhile\u001b[39;00m \u001b[39mTrue\u001b[39;00m:\n\u001b[1;32m---> 29\u001b[0m     \u001b[39mif\u001b[39;00m pygame\u001b[39m.\u001b[39mevent\u001b[39m.\u001b[39mget(pygame\u001b[39m.\u001b[39mQUIT):\n\u001b[0;32m     30\u001b[0m         \u001b[39mbreak\u001b[39;00m\n\u001b[0;32m     33\u001b[0m pygame\u001b[39m.\u001b[39mquit()\n",
      "\u001b[1;31mKeyboardInterrupt\u001b[0m: "
     ]
    }
   ],
   "source": [
    "import pygame\n",
    "import visualisation_data as vis_l\n",
    "\n",
    "pygame.init()\n",
    "window = pygame.display.set_mode((1080, 720))\n",
    "window.fill((255, 255, 255))\n",
    "\n",
    "vis_l.draw_nodes_and_bases_routes(matrix_coordonate, window, route_plan)"
   ]
  },
  {
   "cell_type": "code",
   "execution_count": 37,
   "metadata": {},
   "outputs": [
    {
     "name": "stdout",
     "output_type": "stream",
     "text": [
      "[25, 3, 17, 18, 28, 46, 45, 32, 15, 42]\n",
      "[[         inf          inf          inf ...          inf 369.34672058\n",
      "  679.0029455 ]\n",
      " [         inf          inf          inf ...          inf 219.9386278\n",
      "           inf]\n",
      " [         inf          inf          inf ...          inf          inf\n",
      "           inf]\n",
      " ...\n",
      " [         inf          inf          inf ...          inf          inf\n",
      "           inf]\n",
      " [369.34672058 219.9386278           inf ...          inf          inf\n",
      "           inf]\n",
      " [679.0029455           inf          inf ...          inf          inf\n",
      "           inf]]\n"
     ]
    },
    {
     "ename": "IndexError",
     "evalue": "index 25 is out of bounds for axis 0 with size 10",
     "output_type": "error",
     "traceback": [
      "\u001b[1;31m---------------------------------------------------------------------------\u001b[0m",
      "\u001b[1;31mIndexError\u001b[0m                                Traceback (most recent call last)",
      "\u001b[1;32mc:\\Users\\kevin\\algo_env\\Projet\\Projet\\Final_Project\\projet_algo\\Projet_Algo.ipynb Cell 7'\u001b[0m in \u001b[0;36m<cell line: 41>\u001b[1;34m()\u001b[0m\n\u001b[0;32m     <a href='vscode-notebook-cell:/c%3A/Users/kevin/algo_env/Projet/Projet/Final_Project/projet_algo/Projet_Algo.ipynb#ch0000007?line=39'>40</a>\u001b[0m total_circuit_l \u001b[39m=\u001b[39m \u001b[39m0\u001b[39m\n\u001b[0;32m     <a href='vscode-notebook-cell:/c%3A/Users/kevin/algo_env/Projet/Projet/Final_Project/projet_algo/Projet_Algo.ipynb#ch0000007?line=40'>41</a>\u001b[0m \u001b[39mfor\u001b[39;00m i \u001b[39min\u001b[39;00m tour:\n\u001b[1;32m---> <a href='vscode-notebook-cell:/c%3A/Users/kevin/algo_env/Projet/Projet/Final_Project/projet_algo/Projet_Algo.ipynb#ch0000007?line=41'>42</a>\u001b[0m     total_circuit_l \u001b[39m+\u001b[39m\u001b[39m=\u001b[39m matrix_city_completed[i][i\u001b[39m+\u001b[39m\u001b[39m1\u001b[39m]\n\u001b[0;32m     <a href='vscode-notebook-cell:/c%3A/Users/kevin/algo_env/Projet/Projet/Final_Project/projet_algo/Projet_Algo.ipynb#ch0000007?line=42'>43</a>\u001b[0m \u001b[39mprint\u001b[39m(total_circuit_l)\n\u001b[0;32m     <a href='vscode-notebook-cell:/c%3A/Users/kevin/algo_env/Projet/Projet/Final_Project/projet_algo/Projet_Algo.ipynb#ch0000007?line=44'>45</a>\u001b[0m \u001b[39m# draw the tour\u001b[39;00m\n",
      "\u001b[1;31mIndexError\u001b[0m: index 25 is out of bounds for axis 0 with size 10"
     ]
    }
   ],
   "source": [
    "\n"
   ]
  }
 ],
 "metadata": {
  "kernelspec": {
   "display_name": "algo_env",
   "language": "python",
   "name": "algo_env"
  },
  "language_info": {
   "codemirror_mode": {
    "name": "ipython",
    "version": 3
   },
   "file_extension": ".py",
   "mimetype": "text/x-python",
   "name": "python",
   "nbconvert_exporter": "python",
   "pygments_lexer": "ipython3",
   "version": "3.9.12"
  },
  "orig_nbformat": 4,
  "vscode": {
   "interpreter": {
    "hash": "2da5dc82b5499103febd2f3394828446988150bb38f9614c0523a529ca33a286"
   }
  }
 },
 "nbformat": 4,
 "nbformat_minor": 2
}
