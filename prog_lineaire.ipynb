{
 "cells": [
  {
   "cell_type": "code",
   "execution_count": 3,
   "metadata": {},
   "outputs": [],
   "source": [
    "# on vous donne la solution toute faite !\n",
    "from pulp import *\n",
    "import numpy as np\n",
    "from gen_random import gen_random as gen_r\n",
    "from prog_lineraire import prog_lineaire as prog_l"
   ]
  },
  {
   "cell_type": "code",
   "execution_count": 23,
   "metadata": {},
   "outputs": [],
   "source": [
    "size_graph=20\n",
    "size_cities=5\n",
    "max_value=100\n",
    "prob=0.2\n",
    "\n",
    "random_graph,cities,graph_complet_cities = gen_r(size_graph,size_cities, max_value, prob)"
   ]
  },
  {
   "cell_type": "code",
   "execution_count": 74,
   "metadata": {},
   "outputs": [
    {
     "name": "stdout",
     "output_type": "stream",
     "text": [
      "[[ inf  97.  inf  inf  43.  inf  inf  inf  inf  inf  inf  inf  inf  34.\n",
      "   inf  inf  98.  inf  inf  inf]\n",
      " [ 97.  inf  inf  79.  13.  inf  51.  82.  73.  inf  inf  inf  31.  inf\n",
      "   54.  inf   4.  90.  54.  15.]\n",
      " [ inf  inf  inf  inf  inf  83.  41.  inf  92.  inf  77.   5.  inf  inf\n",
      "   92.  inf 100.  47.  10.  inf]\n",
      " [ inf  79.  inf  inf  18.  22.  86.  inf  inf  85.  inf  inf  inf  inf\n",
      "   inf  76.  80.  inf  inf  41.]\n",
      " [ 43.  13.  inf  18.  inf  inf  22.  inf  inf  28.  inf  inf  inf  inf\n",
      "   75.  inf  49.  59.  28.  inf]\n",
      " [ inf  inf  83.  22.  inf  inf  inf  inf  inf  inf   2.  inf  inf  inf\n",
      "   inf  inf  inf  inf  inf  inf]\n",
      " [ inf  51.  41.  86.  22.  inf  inf  73.  inf  inf  inf  18.  inf  inf\n",
      "   inf  inf  inf  inf  30.  52.]\n",
      " [ inf  82.  inf  inf  inf  inf  73.  inf  91.  15.  inf  66.  inf  inf\n",
      "   inf  inf  inf  79.  13.  21.]\n",
      " [ inf  73.  92.  inf  inf  inf  inf  91.  inf  inf  99.  inf  inf  inf\n",
      "   63.  73.  inf  inf  inf  inf]\n",
      " [ inf  inf  inf  85.  28.  inf  inf  15.  inf  inf  10.  58.  19.  inf\n",
      "   99.  inf  67.  inf  55.  19.]\n",
      " [ inf  inf  77.  inf  inf   2.  inf  inf  99.  10.  inf  inf  inf  inf\n",
      "   inf  inf  79.  inf  inf  inf]\n",
      " [ inf  inf   5.  inf  inf  inf  18.  66.  inf  58.  inf  inf  inf   2.\n",
      "   78.  inf  46.  inf  inf  20.]\n",
      " [ inf  31.  inf  inf  inf  inf  inf  inf  inf  19.  inf  inf  inf  inf\n",
      "   32.  inf  inf  inf  inf  inf]\n",
      " [ 34.  inf  inf  inf  inf  inf  inf  inf  inf  inf  inf   2.  inf  inf\n",
      "   15.   6.  87.  37.  inf  inf]\n",
      " [ inf  54.  92.  inf  75.  inf  inf  inf  63.  99.  inf  78.  32.  15.\n",
      "   inf  inf  34.  inf  inf  74.]\n",
      " [ inf  inf  inf  76.  inf  inf  inf  inf  73.  inf  inf  inf  inf   6.\n",
      "   inf  inf  54.  inf  inf  37.]\n",
      " [ 98.   4. 100.  80.  49.  inf  inf  inf  inf  67.  79.  46.  inf  87.\n",
      "   34.  54.  inf  inf  inf  inf]\n",
      " [ inf  90.  47.  inf  59.  inf  inf  79.  inf  inf  inf  inf  inf  37.\n",
      "   inf  inf  inf  inf  inf  87.]\n",
      " [ inf  54.  10.  inf  28.  inf  30.  13.  inf  55.  inf  inf  inf  inf\n",
      "   inf  inf  inf  inf  inf  51.]\n",
      " [ inf  15.  inf  41.  inf  inf  52.  21.  inf  19.  inf  20.  inf  inf\n",
      "   74.  37.  inf  87.  51.  inf]]\n",
      "[6, 11, 12, 4, 5]\n",
      "[[ 0. 18. 66. 22. 62.]\n",
      " [18.  0. 49. 40. 51.]\n",
      " [66. 49.  0. 44. 31.]\n",
      " [22. 40. 44.  0. 40.]\n",
      " [62. 51. 31. 40.  0.]]\n"
     ]
    }
   ],
   "source": [
    "print(random_graph)\n",
    "print(cities)\n",
    "print(graph_complet_cities)"
   ]
  },
  {
   "cell_type": "code",
   "execution_count": 98,
   "metadata": {},
   "outputs": [
    {
     "ename": "SyntaxError",
     "evalue": "invalid syntax (3187503554.py, line 5)",
     "output_type": "error",
     "traceback": [
      "\u001b[1;36m  Input \u001b[1;32mIn [98]\u001b[1;36m\u001b[0m\n\u001b[1;33m    pos=nx.random_layout(G,[,20,20])\u001b[0m\n\u001b[1;37m                            ^\u001b[0m\n\u001b[1;31mSyntaxError\u001b[0m\u001b[1;31m:\u001b[0m invalid syntax\n"
     ]
    }
   ],
   "source": [
    "import networkx as nx\n",
    "import matplotlib.pyplot as plt\n",
    "\n",
    "G = nx.from_numpy_matrix(graph_complet_cities) \n",
    "pos=nx.random_layout(G,[,20,20])\n",
    "print(pos)\n",
    "\n",
    "plt.figure(figsize=(20, 20))\n",
    "for k, p in pos.items():\n",
    "    plt.scatter(p[0], p[1], s=50, edgecolor='None')\n",
    "plt.axis('equal')\n",
    "plt.show()"
   ]
  },
  {
   "cell_type": "code",
   "execution_count": 72,
   "metadata": {},
   "outputs": [
    {
     "name": "stdout",
     "output_type": "stream",
     "text": [
      "Route : [[(0, 1), (1, 0)], [(2, 4), (4, 3), (3, 2)]]\n",
      "Subtour : [2]\n",
      "Time : 0.057546138763427734\n",
      "Status : Optimal\n",
      "Value : 151.0\n"
     ]
    }
   ],
   "source": [
    "route_plan,subtour,time,status,value = prog_l(graph_complet_cities)\n",
    "\n",
    "print(\"Route :\", route_plan)\n",
    "print(\"Subtour :\", subtour)\n",
    "print(\"Time :\", time)\n",
    "print(\"Status :\", status)\n",
    "print(\"Value :\", value)"
   ]
  }
 ],
 "metadata": {
  "interpreter": {
   "hash": "916dbcbb3f70747c44a77c7bcd40155683ae19c65e1c03b4aa3499c5328201f1"
  },
  "kernelspec": {
   "display_name": "algo_env",
   "language": "python",
   "name": "algo_env"
  },
  "language_info": {
   "codemirror_mode": {
    "name": "ipython",
    "version": 3
   },
   "file_extension": ".py",
   "mimetype": "text/x-python",
   "name": "python",
   "nbconvert_exporter": "python",
   "pygments_lexer": "ipython3",
   "version": "3.9.12"
  },
  "orig_nbformat": 4
 },
 "nbformat": 4,
 "nbformat_minor": 2
}
