{
 "cells": [
  {
   "cell_type": "code",
   "execution_count": 1,
   "metadata": {},
   "outputs": [],
   "source": [
    "# on vous donne la solution toute faite !\n",
    "from pulp import *\n",
    "from gen_random import gen_random as gen_r"
   ]
  },
  {
   "cell_type": "code",
   "execution_count": 2,
   "metadata": {},
   "outputs": [],
   "source": [
    "size_graph=10\n",
    "size_cities=5\n",
    "max_value=10\n",
    "prob=0.2\n",
    "\n",
    "\n",
    "random_graph,cities,graph_complet_cities = gen_r(size_graph,size_cities, max_value, prob)"
   ]
  },
  {
   "cell_type": "code",
   "execution_count": 3,
   "metadata": {},
   "outputs": [
    {
     "name": "stdout",
     "output_type": "stream",
     "text": [
      "[[inf  3. inf  1. inf inf  3. inf inf inf]\n",
      " [ 3. inf  9. inf inf  6. inf  4. inf inf]\n",
      " [inf  9. inf inf  6. 10. inf  7. inf  6.]\n",
      " [ 1. inf inf inf  1. inf inf inf inf inf]\n",
      " [inf inf  6.  1. inf 10. inf inf inf inf]\n",
      " [inf  6. 10. inf 10. inf  3.  5. inf inf]\n",
      " [ 3. inf inf inf inf  3. inf inf inf inf]\n",
      " [inf  4.  7. inf inf  5. inf inf 10.  8.]\n",
      " [inf inf inf inf inf inf inf 10. inf  1.]\n",
      " [inf inf  6. inf inf inf inf  8.  1. inf]]\n",
      "[5, 2, 9, 6, 3]\n",
      "[[inf 10. 13.  3.  7.]\n",
      " [10. inf  6. 11.  7.]\n",
      " [13.  6. inf 16. 13.]\n",
      " [ 3. 11. 16. inf  4.]\n",
      " [ 7.  7. 13.  4. inf]]\n"
     ]
    }
   ],
   "source": [
    "print(random_graph)\n",
    "print(cities)\n",
    "print(graph_complet_cities)"
   ]
  },
  {
   "cell_type": "code",
   "execution_count": 1,
   "metadata": {},
   "outputs": [],
   "source": [
    "# on vous donne la solution toute faite !\n",
    "\n",
    "from pulp import *\n",
    "\n",
    "def borne_superieure():\n",
    "    objets = range(nb_objets)\n",
    "\n",
    "    # variables\n",
    "    x = LpVariable.dicts('objet', objets, 0, 1)\n",
    "    \n",
    "    # probleme\n",
    "    prob = LpProblem(\"knapsack\", LpMaximize)\n",
    "\n",
    "    # fonction objective\n",
    "    cost = lpSum([valeur_objets[i]*x[i] for i in objets])\n",
    "    prob += cost\n",
    "\n",
    "    # contrainte\n",
    "    prob += lpSum([poids_objets[i]*x[i] for i in objets]) <= capacite\n",
    "\n",
    "    prob.solve()\n",
    "    return value(prob.objective) if (LpStatus[prob.status] == \"Optimal\") else None\n",
    "\n",
    "borne = borne_superieure()\n",
    "if borne is not None:\n",
    "    print(\"borne supérieure : \", borne)\n",
    "print(\"valeur de la solution :\", str(valeur_contenu(sol)))"
   ]
  },
  {
   "cell_type": "code",
   "execution_count": null,
   "metadata": {},
   "outputs": [],
   "source": []
  }
 ],
 "metadata": {
  "kernelspec": {
   "display_name": "algo_env",
   "language": "python",
   "name": "algo_env"
  },
  "language_info": {
   "codemirror_mode": {
    "name": "ipython",
    "version": 3
   },
   "file_extension": ".py",
   "mimetype": "text/x-python",
   "name": "python",
   "nbconvert_exporter": "python",
   "pygments_lexer": "ipython3",
   "version": "3.9.7"
  },
  "orig_nbformat": 4,
  "vscode": {
   "interpreter": {
    "hash": "c95ece1f82b2d4c2994608b6fc976ffa4c753f47c062e325ce6c1fd0d2beaaca"
   }
  }
 },
 "nbformat": 4,
 "nbformat_minor": 2
}
