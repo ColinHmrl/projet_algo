{
 "cells": [
  {
   "cell_type": "code",
   "execution_count": 1,
   "metadata": {},
   "outputs": [],
   "source": [
    "from dijkstar import Graph, find_path\n",
    "def convert_graph(graph):\n",
    "  graph_dijkstra = Graph()\n",
    "  for i in range(len(graph)):\n",
    "    for j in range(len(graph)):\n",
    "      graph_dijkstra.add_edge(i, j,graph[i][j])\n",
    "  return graph_dijkstra"
   ]
  },
  {
   "cell_type": "code",
   "execution_count": 3,
   "metadata": {},
   "outputs": [],
   "source": [
    "def input_output_contrainte(matrice, max_value):\n",
    "    for i,line in enumerate(matrice):\n",
    "        arr = np.where(line == np.inf)[0]\n",
    "        arr = np.delete(arr,np.where(arr == i))\n",
    "        while len(arr) > len(matrice)-3:\n",
    "            index = random.choice(arr)\n",
    "            matrice[i][index] = random.randint(1,max_value)\n",
    "            arr = np.delete(arr,np.where(arr == index))\n",
    "    for i in range(len(matrice)):\n",
    "        for j in range(len(matrice)):\n",
    "            if matrice[i][j] != np.inf:\n",
    "                matrice[j][i] = matrice[i][j]\n",
    "    return matrice"
   ]
  },
  {
   "cell_type": "code",
   "execution_count": 4,
   "metadata": {},
   "outputs": [
    {
     "name": "stdout",
     "output_type": "stream",
     "text": [
      "[[inf inf  1. inf inf  7. inf]\n",
      " [inf inf inf  1. inf inf  3.]\n",
      " [ 1. inf inf inf  4.  1.  4.]\n",
      " [inf  1. inf inf inf  4. inf]\n",
      " [inf inf  4. inf inf  7.  2.]\n",
      " [ 7. inf  1.  4.  7. inf inf]\n",
      " [inf  3.  4. inf  2. inf inf]]\n"
     ]
    }
   ],
   "source": [
    "import random\n",
    "import numpy as np\n",
    "\n",
    "#Génère une matrice aléatoire de taille n\n",
    "def gen_graph(size, max_value, prob):\n",
    "    matrice = np.ones((size,size))*np.inf\n",
    "    for i in range(size):\n",
    "        for j in range(size):\n",
    "            if random.uniform(0,1)<prob:\n",
    "                matrice[i][j] = random.randint(1,max_value)\n",
    "                matrice[j][i] = matrice[i][j]\n",
    "            if j == i:\n",
    "                matrice[i][i] = np.inf\n",
    "    input_output_contrainte(matrice, max_value)\n",
    "    return matrice\n",
    "\n",
    "graph = gen_graph(7,7,0)\n",
    "print(graph)"
   ]
  },
  {
   "cell_type": "code",
   "execution_count": 5,
   "metadata": {},
   "outputs": [
    {
     "name": "stdout",
     "output_type": "stream",
     "text": [
      "[0, 2, 5, 1, 3]\n"
     ]
    }
   ],
   "source": [
    "def random_city(graph, nb_city):\n",
    "    if (nb_city <= len(graph)):\n",
    "        return random.sample(range(len(graph)),nb_city)\n",
    "\n",
    "cities = random_city(graph,5)\n",
    "print(cities)\n"
   ]
  },
  {
   "cell_type": "code",
   "execution_count": 6,
   "metadata": {},
   "outputs": [
    {
     "name": "stdout",
     "output_type": "stream",
     "text": [
      "[[inf  1.  7.  7.  6.]\n",
      " [ 1. inf  1.  6.  5.]\n",
      " [ 7.  1. inf  5.  4.]\n",
      " [ 7.  6.  5. inf  1.]\n",
      " [ 6.  5.  4.  1. inf]]\n"
     ]
    }
   ],
   "source": [
    "def cities_complet(graph, cities):\n",
    "    graph_cities = np.zeros((len(cities),len(cities)))\n",
    "    graph_dji = convert_graph(graph)\n",
    "    for index_city, city in enumerate(cities):\n",
    "        for index_city2, city2 in enumerate(cities):\n",
    "            graph_cities[index_city][index_city2] = graph[city][city2]\n",
    "    for index, city in enumerate(graph_cities):\n",
    "        liaisons = np.where(city == np.inf)\n",
    "        liaisons = np.delete(liaisons,np.where(liaisons[0] == index))\n",
    "        for col in liaisons:\n",
    "            shortest_path = find_path(graph_dji,cities[index],cities[col])\n",
    "            graph_cities[index][col] = shortest_path.total_cost\n",
    "            \n",
    "    return graph_cities\n",
    "\n",
    "print(cities_complet(graph, cities))\n"
   ]
  }
 ],
 "metadata": {
  "interpreter": {
   "hash": "31f2aee4e71d21fbe5cf8b01ff0e069b9275f58929596ceb00d14d90e3e16cd6"
  },
  "kernelspec": {
   "display_name": "algo_env",
   "language": "python",
   "name": "algo_env"
  },
  "language_info": {
   "codemirror_mode": {
    "name": "ipython",
    "version": 3
   },
   "file_extension": ".py",
   "mimetype": "text/x-python",
   "name": "python",
   "nbconvert_exporter": "python",
   "pygments_lexer": "ipython3",
   "version": "3.9.7"
  },
  "orig_nbformat": 4,
  "vscode": {
   "interpreter": {
    "hash": "6244db93e61d1954dd4e8548f333d286518813b8e5ce742621f9f590f479faa4"
   }
  }
 },
 "nbformat": 4,
 "nbformat_minor": 2
}
