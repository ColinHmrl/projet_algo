{
 "cells": [
  {
   "cell_type": "code",
   "execution_count": 1,
   "metadata": {},
   "outputs": [
    {
     "name": "stdout",
     "output_type": "stream",
     "text": [
      "100\n"
     ]
    }
   ],
   "source": [
    "import generator_matrix as gm\n",
    "import dataset\n",
    "\n",
    "nb_city_total = 500\n",
    "nb_city_selectionned = 100\n",
    "max_value_x = 1080\n",
    "max_value_y = 720\n",
    "probability = 0.2\n",
    "\n",
    "cities = len(dataset.import_dataset(\"dataset/cities\"))\n",
    "print(cities)"
   ]
  },
  {
   "cell_type": "code",
   "execution_count": 2,
   "metadata": {},
   "outputs": [],
   "source": [
    "\n",
    "\n",
    "for i in range(10):\n",
    "    matrix_coordonate, matrix_distance, random_cities, matrix_city_completed = gm.random_matrix_generator(nb_city_total,nb_city_selectionned,max_value_x,max_value_y,probability,False)\n",
    "    dataset.export_dataset(\"dataset/cities_\"+i,random_cities)\n",
    "    dataset.export_dataset(\"dataset/dataset\"+i,matrix_city_completed)\n"
   ]
  }
 ],
 "metadata": {
  "kernelspec": {
   "display_name": "algo_env",
   "language": "python",
   "name": "algo_env"
  },
  "language_info": {
   "codemirror_mode": {
    "name": "ipython",
    "version": 3
   },
   "file_extension": ".py",
   "mimetype": "text/x-python",
   "name": "python",
   "nbconvert_exporter": "python",
   "pygments_lexer": "ipython3",
   "version": "3.9.7"
  },
  "orig_nbformat": 4,
  "vscode": {
   "interpreter": {
    "hash": "c95ece1f82b2d4c2994608b6fc976ffa4c753f47c062e325ce6c1fd0d2beaaca"
   }
  }
 },
 "nbformat": 4,
 "nbformat_minor": 2
}
